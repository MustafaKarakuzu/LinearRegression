{
 "cells": [
  {
   "cell_type": "markdown",
   "id": "9a846e24",
   "metadata": {},
   "source": [
    "# Multi Collinearity"
   ]
  },
  {
   "cell_type": "code",
   "execution_count": 1,
   "id": "a3380287",
   "metadata": {},
   "outputs": [],
   "source": [
    "import numpy as np\n",
    "import pandas as pd\n",
    "import matplotlib.pyplot as plt\n",
    "import tabulate\n",
    "import statsmodels.api as sm"
   ]
  },
  {
   "cell_type": "code",
   "execution_count": 2,
   "id": "e5f4bbdc",
   "metadata": {},
   "outputs": [],
   "source": [
    "y=np.array([4,7,10,12,18,23])\n",
    "x1=np.array([2,4,6,8,10,12])\n",
    "x2=np.array([10,10,12,12,14,14])\n",
    "x3=np.array([1,3,7,5,11,9])\n",
    "x4=np.array([10,8,8,4,4,2])\n",
    "indep=np.column_stack((x1,x2,x3,x4))"
   ]
  },
  {
   "cell_type": "code",
   "execution_count": 3,
   "id": "62c2d453",
   "metadata": {},
   "outputs": [
    {
     "data": {
      "text/plain": [
       "array([[ 2, 10,  1, 10],\n",
       "       [ 4, 10,  3,  8],\n",
       "       [ 6, 12,  7,  8],\n",
       "       [ 8, 12,  5,  4],\n",
       "       [10, 14, 11,  4],\n",
       "       [12, 14,  9,  2]])"
      ]
     },
     "execution_count": 3,
     "metadata": {},
     "output_type": "execute_result"
    }
   ],
   "source": [
    "indep"
   ]
  },
  {
   "cell_type": "markdown",
   "id": "03af8ba1",
   "metadata": {},
   "source": [
    "### $\\bar{x_{i}}$"
   ]
  },
  {
   "cell_type": "code",
   "execution_count": 4,
   "id": "f355bff2",
   "metadata": {},
   "outputs": [],
   "source": [
    "x1m=np.mean(x1)\n",
    "x2m=np.mean(x2)\n",
    "x3m=np.mean(x3)\n",
    "x4m=np.mean(x4)\n",
    "means=np.column_stack((x1m,x2m,x3m,x4m))"
   ]
  },
  {
   "cell_type": "markdown",
   "id": "9f42e16c",
   "metadata": {},
   "source": [
    "### $x_{i}-\\bar{x_{i}}$"
   ]
  },
  {
   "cell_type": "code",
   "execution_count": 5,
   "id": "5d47acc6",
   "metadata": {},
   "outputs": [],
   "source": [
    "x1s=x1-x1m\n",
    "x2s=x2-x2m\n",
    "x3s=x3-x3m\n",
    "x4s=x4-x4m\n",
    "A=np.column_stack((x1s,x2s,x3s,x4s))"
   ]
  },
  {
   "cell_type": "code",
   "execution_count": 6,
   "id": "1097d25a",
   "metadata": {},
   "outputs": [
    {
     "data": {
      "text/plain": [
       "array([[-5., -2., -5.,  4.],\n",
       "       [-3., -2., -3.,  2.],\n",
       "       [-1.,  0.,  1.,  2.],\n",
       "       [ 1.,  0., -1., -2.],\n",
       "       [ 3.,  2.,  5., -2.],\n",
       "       [ 5.,  2.,  3., -4.]])"
      ]
     },
     "execution_count": 6,
     "metadata": {},
     "output_type": "execute_result"
    }
   ],
   "source": [
    "A"
   ]
  },
  {
   "cell_type": "markdown",
   "id": "47044169",
   "metadata": {},
   "source": [
    "### $W=A^{'}A$"
   ]
  },
  {
   "cell_type": "code",
   "execution_count": 7,
   "id": "ca967586",
   "metadata": {},
   "outputs": [],
   "source": [
    "W=A.T.dot(A)"
   ]
  },
  {
   "cell_type": "code",
   "execution_count": 8,
   "id": "b622ee55",
   "metadata": {},
   "outputs": [
    {
     "data": {
      "text/plain": [
       "array([[ 70.,  32.,  62., -56.],\n",
       "       [ 32.,  16.,  32., -24.],\n",
       "       [ 62.,  32.,  70., -44.],\n",
       "       [-56., -24., -44.,  48.]])"
      ]
     },
     "execution_count": 8,
     "metadata": {},
     "output_type": "execute_result"
    }
   ],
   "source": [
    "W"
   ]
  },
  {
   "cell_type": "markdown",
   "id": "77639e19",
   "metadata": {},
   "source": [
    "### $Q=\\begin{bmatrix}1/\\sqrt{W_{11}}&0&...&0\\cr0&1/\\sqrt{W_{22}}&...&0\\cr\\vdots&\\vdots&\\vdots&\\vdots\\cr0&0&0&1/\\sqrt{W_{kk}}\\end{bmatrix}$"
   ]
  },
  {
   "cell_type": "code",
   "execution_count": 9,
   "id": "0a10f895",
   "metadata": {},
   "outputs": [],
   "source": [
    "def Q():\n",
    "    a=1/np.sqrt(np.diag(W))\n",
    "    b=np.diagflat(a)\n",
    "    return b"
   ]
  },
  {
   "cell_type": "code",
   "execution_count": 10,
   "id": "4fd9df0b",
   "metadata": {},
   "outputs": [],
   "source": [
    "q=Q()"
   ]
  },
  {
   "cell_type": "code",
   "execution_count": 11,
   "id": "d2b4bda4",
   "metadata": {},
   "outputs": [
    {
     "data": {
      "text/plain": [
       "array([[0.11952286, 0.        , 0.        , 0.        ],\n",
       "       [0.        , 0.25      , 0.        , 0.        ],\n",
       "       [0.        , 0.        , 0.11952286, 0.        ],\n",
       "       [0.        , 0.        , 0.        , 0.14433757]])"
      ]
     },
     "execution_count": 11,
     "metadata": {},
     "output_type": "execute_result"
    }
   ],
   "source": [
    "q"
   ]
  },
  {
   "cell_type": "markdown",
   "id": "2afa7246",
   "metadata": {},
   "source": [
    "### $ R=QWQ$"
   ]
  },
  {
   "cell_type": "markdown",
   "id": "26525df9",
   "metadata": {},
   "source": [
    "R is represent to correlation matrix. It is symmetric and its diagonal elements are one. The elements which except from diagonal give the correlation coefficients between independent variables."
   ]
  },
  {
   "cell_type": "code",
   "execution_count": 12,
   "id": "2ad83567",
   "metadata": {},
   "outputs": [],
   "source": [
    "R=((q.dot(W)).dot(q))"
   ]
  },
  {
   "cell_type": "code",
   "execution_count": 13,
   "id": "3639c289",
   "metadata": {},
   "outputs": [
    {
     "data": {
      "text/plain": [
       "array([[ 1.        ,  0.95618289,  0.88571429, -0.96609178],\n",
       "       [ 0.95618289,  1.        ,  0.95618289, -0.8660254 ],\n",
       "       [ 0.88571429,  0.95618289,  1.        , -0.75907212],\n",
       "       [-0.96609178, -0.8660254 , -0.75907212,  1.        ]])"
      ]
     },
     "execution_count": 13,
     "metadata": {},
     "output_type": "execute_result"
    }
   ],
   "source": [
    "R"
   ]
  },
  {
   "cell_type": "code",
   "execution_count": 14,
   "id": "74b84419",
   "metadata": {},
   "outputs": [
    {
     "data": {
      "text/plain": [
       "0.00013605442176870867"
      ]
     },
     "execution_count": 14,
     "metadata": {},
     "output_type": "execute_result"
    }
   ],
   "source": [
    "np.linalg.det(R)"
   ]
  },
  {
   "cell_type": "markdown",
   "id": "02cdfcb0",
   "metadata": {},
   "source": [
    "### To Calculate Multi Collinearity With Scipy"
   ]
  },
  {
   "cell_type": "code",
   "execution_count": 15,
   "id": "73f68f0b",
   "metadata": {},
   "outputs": [],
   "source": [
    "from scipy import stats as st"
   ]
  },
  {
   "cell_type": "code",
   "execution_count": 16,
   "id": "5817bba5",
   "metadata": {},
   "outputs": [],
   "source": [
    "res=[]\n",
    "def mult_cor(a):\n",
    "    for i in range(0,a.shape[1],1):\n",
    "        for j in range(0,a.shape[1],1):\n",
    "            results=st.pearsonr(a[:,i],a[:,j])\n",
    "            res.append(results)"
   ]
  },
  {
   "cell_type": "code",
   "execution_count": 17,
   "id": "6d32b7fa",
   "metadata": {},
   "outputs": [],
   "source": [
    "mult_cor(indep)"
   ]
  },
  {
   "cell_type": "code",
   "execution_count": 18,
   "id": "1b2377a3",
   "metadata": {},
   "outputs": [],
   "source": [
    "def tabulate_r(res,a):\n",
    "    sarr=np.array_split(res,a.shape[1])\n",
    "    for i in range(0,a.shape[1],1):\n",
    "        print(sarr[i][:,0])"
   ]
  },
  {
   "cell_type": "markdown",
   "id": "9b4baae7",
   "metadata": {},
   "source": [
    "#### Correlation Matrix"
   ]
  },
  {
   "cell_type": "code",
   "execution_count": 19,
   "id": "37795f1d",
   "metadata": {},
   "outputs": [
    {
     "name": "stdout",
     "output_type": "stream",
     "text": [
      "[ 1.          0.95618289  0.88571429 -0.96609178]\n",
      "[ 0.95618289  1.          0.95618289 -0.8660254 ]\n",
      "[ 0.88571429  0.95618289  1.         -0.75907212]\n",
      "[-0.96609178 -0.8660254  -0.75907212  1.        ]\n"
     ]
    }
   ],
   "source": [
    "tabulate_r(res,indep)"
   ]
  },
  {
   "cell_type": "code",
   "execution_count": 20,
   "id": "885a8dd5",
   "metadata": {},
   "outputs": [],
   "source": [
    "def tabulate_p(res,a):\n",
    "    sarr=np.array_split(res,a.shape[1])\n",
    "    for i in range(0,a.shape[1],1):\n",
    "        print(sarr[i][:,1])"
   ]
  },
  {
   "cell_type": "markdown",
   "id": "ba527412",
   "metadata": {},
   "source": [
    "#### P Values Of Correlation Coefficients"
   ]
  },
  {
   "cell_type": "code",
   "execution_count": 21,
   "id": "1db42f19",
   "metadata": {},
   "outputs": [
    {
     "name": "stdout",
     "output_type": "stream",
     "text": [
      "[1.84889275e-32 2.83784593e-03 1.88454810e-02 1.70515748e-03]\n",
      "[0.00283785 0.         0.00283785 0.02572142]\n",
      "[1.88454810e-02 2.83784593e-03 1.84889275e-32 8.00768889e-02]\n",
      "[0.00170516 0.02572142 0.08007689 0.        ]\n"
     ]
    }
   ],
   "source": [
    "tabulate_p(res,indep)"
   ]
  },
  {
   "cell_type": "markdown",
   "id": "9fab0135",
   "metadata": {},
   "source": [
    "### Some Indicaders of Multi Collinearity"
   ]
  },
  {
   "cell_type": "code",
   "execution_count": 22,
   "id": "aee37bbc",
   "metadata": {},
   "outputs": [],
   "source": [
    "y=np.array([10,15,16,19,20,24,26,30,35,38,40,45,48,50,55])\n",
    "x1=np.arange(2,32,2)\n",
    "x2=np.array([25,24,23,22,20,19,18,17,16,15,10,9,8,6,4])\n",
    "x3=np.array([8,1,15,16,18,20,22,25,29,30,35,36,39,40,45])"
   ]
  },
  {
   "cell_type": "code",
   "execution_count": 23,
   "id": "8943dbb5",
   "metadata": {},
   "outputs": [],
   "source": [
    "X=np.column_stack((x1,x2,x3))"
   ]
  },
  {
   "cell_type": "code",
   "execution_count": 24,
   "id": "2d548335",
   "metadata": {},
   "outputs": [],
   "source": [
    "Xx=X.T.dot(X)"
   ]
  },
  {
   "cell_type": "markdown",
   "id": "74d91d99",
   "metadata": {},
   "source": [
    "$det(X^{'}X)=0 ~~\\to$ full multi collinearity <br>\n",
    "$det(X^{'}X) \\cong{0} ~~\\to$ strong multi collinearity"
   ]
  },
  {
   "cell_type": "code",
   "execution_count": 25,
   "id": "5828529c",
   "metadata": {},
   "outputs": [
    {
     "data": {
      "text/plain": [
       "1147979384.0000157"
      ]
     },
     "execution_count": 25,
     "metadata": {},
     "output_type": "execute_result"
    }
   ],
   "source": [
    "np.linalg.det(Xx)"
   ]
  },
  {
   "cell_type": "markdown",
   "id": "061269fb",
   "metadata": {},
   "source": [
    "### To Calculate Multi Collinearity With Eigenvalues"
   ]
  },
  {
   "cell_type": "markdown",
   "id": "5387d919",
   "metadata": {},
   "source": [
    "$\\sum^{k+1}_{j=1}\\frac{1}{\\lambda_{j}}>30~~\\to$ Multi collinearity"
   ]
  },
  {
   "cell_type": "code",
   "execution_count": 26,
   "id": "6e7de33b",
   "metadata": {},
   "outputs": [
    {
     "data": {
      "text/plain": [
       "array([[ 2, 25,  8],\n",
       "       [ 4, 24,  1],\n",
       "       [ 6, 23, 15],\n",
       "       [ 8, 22, 16],\n",
       "       [10, 20, 18],\n",
       "       [12, 19, 20],\n",
       "       [14, 18, 22],\n",
       "       [16, 17, 25],\n",
       "       [18, 16, 29],\n",
       "       [20, 15, 30],\n",
       "       [22, 10, 35],\n",
       "       [24,  9, 36],\n",
       "       [26,  8, 39],\n",
       "       [28,  6, 40],\n",
       "       [30,  4, 45]])"
      ]
     },
     "execution_count": 26,
     "metadata": {},
     "output_type": "execute_result"
    }
   ],
   "source": [
    "X"
   ]
  },
  {
   "cell_type": "code",
   "execution_count": 27,
   "id": "773946bc",
   "metadata": {},
   "outputs": [],
   "source": [
    "def R(x):\n",
    "    means = np.mean(x,axis=0)\n",
    "    X= np.subtract(x,means)\n",
    "    W=X.T.dot(X)\n",
    "    a=1/np.sqrt(np.diag(W))\n",
    "    Q=np.diagflat(a)\n",
    "    return ((Q.dot(W)).dot(Q))"
   ]
  },
  {
   "cell_type": "code",
   "execution_count": 28,
   "id": "da5a439e",
   "metadata": {},
   "outputs": [],
   "source": [
    "cor_mat=R(X)"
   ]
  },
  {
   "cell_type": "code",
   "execution_count": 29,
   "id": "5472b3db",
   "metadata": {},
   "outputs": [
    {
     "data": {
      "text/plain": [
       "array([[ 1.        , -0.98695878,  0.97991304],\n",
       "       [-0.98695878,  1.        , -0.96624006],\n",
       "       [ 0.97991304, -0.96624006,  1.        ]])"
      ]
     },
     "execution_count": 29,
     "metadata": {},
     "output_type": "execute_result"
    }
   ],
   "source": [
    "cor_mat"
   ]
  },
  {
   "cell_type": "code",
   "execution_count": 30,
   "id": "7423e620",
   "metadata": {},
   "outputs": [],
   "source": [
    "eig=np.linalg.eig(cor_mat)[0]"
   ]
  },
  {
   "cell_type": "code",
   "execution_count": 31,
   "id": "412ec06c",
   "metadata": {},
   "outputs": [
    {
     "data": {
      "text/plain": [
       "array([2.95543309, 0.0101127 , 0.03445421])"
      ]
     },
     "execution_count": 31,
     "metadata": {},
     "output_type": "execute_result"
    }
   ],
   "source": [
    "eig"
   ]
  },
  {
   "cell_type": "code",
   "execution_count": 32,
   "id": "32078add",
   "metadata": {},
   "outputs": [
    {
     "name": "stdout",
     "output_type": "stream",
     "text": [
      "128.24794309638176 -----> >30\n"
     ]
    }
   ],
   "source": [
    "print(f'{np.sum(1/eig)} -----> >30')"
   ]
  },
  {
   "cell_type": "markdown",
   "id": "ab156062",
   "metadata": {},
   "source": [
    "## $K=\\frac{\\lambda_{max}}{\\lambda_{min}}$ <br>\n",
    "$K<=100;~~$ There is no multi collinearity<br>\n",
    "$100<K<1000;~~ $ Moderately multi collinearity <br>\n",
    "$1000<=K;~~$ Strong multi collinearity"
   ]
  },
  {
   "cell_type": "code",
   "execution_count": 33,
   "id": "9ee3a06f",
   "metadata": {},
   "outputs": [],
   "source": [
    "maxV=np.max(eig)\n",
    "minV=np.min(eig)"
   ]
  },
  {
   "cell_type": "code",
   "execution_count": 34,
   "id": "2616f9ce",
   "metadata": {},
   "outputs": [],
   "source": [
    "K=maxV/minV"
   ]
  },
  {
   "cell_type": "code",
   "execution_count": 35,
   "id": "4e8d62fe",
   "metadata": {},
   "outputs": [
    {
     "name": "stdout",
     "output_type": "stream",
     "text": [
      "292,24 ----> moderately multi collinearity\n"
     ]
    }
   ],
   "source": [
    "print(f'292,24 ----> moderately multi collinearity')"
   ]
  },
  {
   "cell_type": "markdown",
   "id": "2a2cee67",
   "metadata": {},
   "source": [
    "### $K=\\sqrt{\\frac{\\lambda_{max}}{\\lambda_{i}}}$<br>\n",
    "if K > 10, that indicates strong multi collinearity"
   ]
  },
  {
   "cell_type": "code",
   "execution_count": 36,
   "id": "fe7d95b3",
   "metadata": {},
   "outputs": [
    {
     "name": "stdout",
     "output_type": "stream",
     "text": [
      "K index values[  1.         292.24963929  85.77857533]\n"
     ]
    }
   ],
   "source": [
    "print(f'K index values{np.max(eig)/eig}')"
   ]
  },
  {
   "cell_type": "code",
   "execution_count": null,
   "id": "977419c2",
   "metadata": {},
   "outputs": [],
   "source": []
  }
 ],
 "metadata": {
  "kernelspec": {
   "display_name": "Python 3 (ipykernel)",
   "language": "python",
   "name": "python3"
  },
  "language_info": {
   "codemirror_mode": {
    "name": "ipython",
    "version": 3
   },
   "file_extension": ".py",
   "mimetype": "text/x-python",
   "name": "python",
   "nbconvert_exporter": "python",
   "pygments_lexer": "ipython3",
   "version": "3.9.13"
  }
 },
 "nbformat": 4,
 "nbformat_minor": 5
}
