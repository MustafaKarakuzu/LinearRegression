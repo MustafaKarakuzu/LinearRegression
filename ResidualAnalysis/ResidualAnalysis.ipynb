{
 "cells": [
  {
   "cell_type": "markdown",
   "id": "82561f01",
   "metadata": {},
   "source": [
    "# The Analysis Of Residuals"
   ]
  },
  {
   "cell_type": "code",
   "execution_count": 1,
   "id": "a3380287",
   "metadata": {},
   "outputs": [],
   "source": [
    "import numpy as np\n",
    "import pandas as pd\n",
    "import matplotlib.pyplot as plt\n",
    "import tabulate\n",
    "import statsmodels.api as sm\n",
    "import statsmodels.formula.api as smf\n",
    "from numpy.linalg import inv"
   ]
  },
  {
   "cell_type": "markdown",
   "id": "daf0da7a",
   "metadata": {},
   "source": [
    "$ y = \\beta X + \\epsilon$ <br>\n",
    "$ \\epsilon(residuals) = y - \\beta X$ <br>\n",
    "$\\epsilon(residuals) = y - \\hat y$"
   ]
  },
  {
   "cell_type": "markdown",
   "id": "c444e246",
   "metadata": {},
   "source": [
    "Basic assumptions about residuals."
   ]
  },
  {
   "cell_type": "markdown",
   "id": "3f550646",
   "metadata": {},
   "source": [
    "$\\epsilon_{t} ; (0, \\sigma_{t}^2) $ <br><br>\n",
    "$V(\\epsilon_{t}) = \\sigma_{t}^2 $ <br><br>\n",
    "$Cov(\\epsilon_{t},\\epsilon_{t-1})= 0 $ <br><br>\n",
    "$\\epsilon_{t} ; N(0, \\sigma_{t}^2) $ <br><br>"
   ]
  },
  {
   "cell_type": "code",
   "execution_count": 215,
   "id": "c767112e",
   "metadata": {},
   "outputs": [],
   "source": [
    "data=pd.read_excel('RedDat.xlsx')"
   ]
  },
  {
   "cell_type": "code",
   "execution_count": 216,
   "id": "bca59c1f",
   "metadata": {},
   "outputs": [
    {
     "data": {
      "text/html": [
       "<div>\n",
       "<style scoped>\n",
       "    .dataframe tbody tr th:only-of-type {\n",
       "        vertical-align: middle;\n",
       "    }\n",
       "\n",
       "    .dataframe tbody tr th {\n",
       "        vertical-align: top;\n",
       "    }\n",
       "\n",
       "    .dataframe thead th {\n",
       "        text-align: right;\n",
       "    }\n",
       "</style>\n",
       "<table border=\"1\" class=\"dataframe\">\n",
       "  <thead>\n",
       "    <tr style=\"text-align: right;\">\n",
       "      <th></th>\n",
       "      <th>y</th>\n",
       "      <th>x1</th>\n",
       "      <th>x2</th>\n",
       "      <th>x3</th>\n",
       "    </tr>\n",
       "  </thead>\n",
       "  <tbody>\n",
       "    <tr>\n",
       "      <th>0</th>\n",
       "      <td>42</td>\n",
       "      <td>80</td>\n",
       "      <td>27</td>\n",
       "      <td>89</td>\n",
       "    </tr>\n",
       "    <tr>\n",
       "      <th>1</th>\n",
       "      <td>37</td>\n",
       "      <td>80</td>\n",
       "      <td>27</td>\n",
       "      <td>88</td>\n",
       "    </tr>\n",
       "    <tr>\n",
       "      <th>2</th>\n",
       "      <td>37</td>\n",
       "      <td>75</td>\n",
       "      <td>25</td>\n",
       "      <td>90</td>\n",
       "    </tr>\n",
       "    <tr>\n",
       "      <th>3</th>\n",
       "      <td>28</td>\n",
       "      <td>62</td>\n",
       "      <td>24</td>\n",
       "      <td>87</td>\n",
       "    </tr>\n",
       "    <tr>\n",
       "      <th>4</th>\n",
       "      <td>18</td>\n",
       "      <td>62</td>\n",
       "      <td>22</td>\n",
       "      <td>87</td>\n",
       "    </tr>\n",
       "  </tbody>\n",
       "</table>\n",
       "</div>"
      ],
      "text/plain": [
       "    y  x1  x2  x3\n",
       "0  42  80  27  89\n",
       "1  37  80  27  88\n",
       "2  37  75  25  90\n",
       "3  28  62  24  87\n",
       "4  18  62  22  87"
      ]
     },
     "execution_count": 216,
     "metadata": {},
     "output_type": "execute_result"
    }
   ],
   "source": [
    "data.head()"
   ]
  },
  {
   "cell_type": "markdown",
   "id": "cd54ed14",
   "metadata": {},
   "source": [
    "### Hat Matrix"
   ]
  },
  {
   "cell_type": "markdown",
   "id": "52a3e507",
   "metadata": {},
   "source": [
    "$ \\hat{y}=Hy$ <br>\n",
    "$H$ is hat or projection matrix"
   ]
  },
  {
   "cell_type": "code",
   "execution_count": 218,
   "id": "e883d8d8",
   "metadata": {},
   "outputs": [],
   "source": [
    "# describing variables\n",
    "y=np.array(data.iloc[:,0:1])\n",
    "indep=np.array(data.iloc[:,1:])\n",
    "cons=np.ones(len(y))\n",
    "n=len(data)\n",
    "m=data.shape[1]-1"
   ]
  },
  {
   "cell_type": "code",
   "execution_count": 219,
   "id": "33428331",
   "metadata": {},
   "outputs": [],
   "source": [
    "#Basic Matrix\n",
    "X=np.column_stack((cons,indep))\n",
    "X_trans=np.transpose(X)\n",
    "Xx=X_trans.dot(X)\n",
    "X_inv=inv(Xx)\n",
    "x=X.dot(X_inv)\n",
    "H=x.dot(X_trans)"
   ]
  },
  {
   "cell_type": "code",
   "execution_count": 220,
   "id": "6398632a",
   "metadata": {},
   "outputs": [],
   "source": [
    "resids=y-H.dot(y)"
   ]
  },
  {
   "cell_type": "code",
   "execution_count": 221,
   "id": "22b70556",
   "metadata": {},
   "outputs": [
    {
     "data": {
      "text/plain": [
       "array([[ 3.23463723],\n",
       "       [-1.91748529],\n",
       "       [ 4.555533  ],\n",
       "       [ 5.69777417],\n",
       "       [-1.71165358],\n",
       "       [-3.0069397 ],\n",
       "       [-2.38949071],\n",
       "       [-1.38949071],\n",
       "       [-3.1443789 ],\n",
       "       [ 1.26719408],\n",
       "       [ 2.63629676],\n",
       "       [ 2.77946036],\n",
       "       [-1.42856088],\n",
       "       [-0.05049929],\n",
       "       [ 2.36141836],\n",
       "       [ 0.9050508 ],\n",
       "       [-1.51995059],\n",
       "       [-0.45509295],\n",
       "       [-0.59825656],\n",
       "       [ 1.41214728],\n",
       "       [-7.23771286]])"
      ]
     },
     "execution_count": 221,
     "metadata": {},
     "output_type": "execute_result"
    }
   ],
   "source": [
    "resids"
   ]
  },
  {
   "cell_type": "code",
   "execution_count": 222,
   "id": "2afa2616",
   "metadata": {},
   "outputs": [],
   "source": [
    "leverage_val=np.diag(H)"
   ]
  },
  {
   "cell_type": "code",
   "execution_count": 223,
   "id": "62b0ac5d",
   "metadata": {},
   "outputs": [
    {
     "data": {
      "text/plain": [
       "array([0.30155547, 0.31784096, 0.17461501, 0.12850524, 0.05222033,\n",
       "       0.07748736, 0.21923676, 0.21923676, 0.14018363, 0.20004426,\n",
       "       0.15503318, 0.21717597, 0.15753146, 0.20582288, 0.19046486,\n",
       "       0.1310737 , 0.4121235 , 0.16059272, 0.17453663, 0.08018585,\n",
       "       0.28453346])"
      ]
     },
     "execution_count": 223,
     "metadata": {},
     "output_type": "execute_result"
    }
   ],
   "source": [
    "leverage_val"
   ]
  },
  {
   "cell_type": "markdown",
   "id": "b09b801b",
   "metadata": {},
   "source": [
    "### Standardized Residuals"
   ]
  },
  {
   "cell_type": "markdown",
   "id": "90015543",
   "metadata": {},
   "source": [
    "### $S^2 = \\frac{\\sum(y_{i}-\\hat{y_{i}})^2}{n-m}$ <br>\n",
    "### $d_{i}=\\frac{\\epsilon_{i}}{S}$"
   ]
  },
  {
   "cell_type": "code",
   "execution_count": 224,
   "id": "b763cdc8",
   "metadata": {},
   "outputs": [],
   "source": [
    "#The Variance\n",
    "S_square=np.sum(resids**2)/(n-m)"
   ]
  },
  {
   "cell_type": "code",
   "execution_count": 225,
   "id": "dee61e83",
   "metadata": {},
   "outputs": [],
   "source": [
    "di=resids/np.sqrt(S_square)\n",
    "di_abs=np.abs(di)"
   ]
  },
  {
   "cell_type": "code",
   "execution_count": 226,
   "id": "fdb09343",
   "metadata": {},
   "outputs": [
    {
     "name": "stdout",
     "output_type": "stream",
     "text": [
      "(array([20], dtype=int64), array([0], dtype=int64))\n"
     ]
    }
   ],
   "source": [
    "for i in di_abs:\n",
    "    if i >2 and i<3:\n",
    "        print(np.where(di_abs == i))"
   ]
  },
  {
   "cell_type": "code",
   "execution_count": 227,
   "id": "0c5562cf",
   "metadata": {},
   "outputs": [
    {
     "data": {
      "text/plain": [
       "array([2.29624096])"
      ]
     },
     "execution_count": 227,
     "metadata": {},
     "output_type": "execute_result"
    }
   ],
   "source": [
    "di_abs[20]"
   ]
  },
  {
   "cell_type": "markdown",
   "id": "f6965781",
   "metadata": {},
   "source": [
    "### Durbin-Watson Test"
   ]
  },
  {
   "cell_type": "markdown",
   "id": "3f25c065",
   "metadata": {},
   "source": [
    "## $d=\\frac{\\sum_{i=2}^n(\\epsilon_{i}-\\epsilon_{i-1})^2}{\\sum_{i=1}^n\\epsilon_{i}^2}$"
   ]
  },
  {
   "cell_type": "code",
   "execution_count": 228,
   "id": "91d1eb29",
   "metadata": {},
   "outputs": [],
   "source": [
    "from statsmodels.stats.stattools import durbin_watson"
   ]
  },
  {
   "cell_type": "code",
   "execution_count": 229,
   "id": "62a2cf6a",
   "metadata": {},
   "outputs": [
    {
     "name": "stdout",
     "output_type": "stream",
     "text": [
      "[1.48513103]\n"
     ]
    }
   ],
   "source": [
    "print(durbin_watson(resids))"
   ]
  },
  {
   "cell_type": "markdown",
   "id": "a910155d",
   "metadata": {},
   "source": [
    "### CUSUM Tests"
   ]
  },
  {
   "cell_type": "code",
   "execution_count": 232,
   "id": "65738039",
   "metadata": {},
   "outputs": [],
   "source": [
    "model=sm.RecursiveLS(y,X).fit()"
   ]
  },
  {
   "cell_type": "code",
   "execution_count": 240,
   "id": "9b938562",
   "metadata": {},
   "outputs": [
    {
     "name": "stdout",
     "output_type": "stream",
     "text": [
      "[ 0.31760936 -0.94731545 -3.28289985 -3.46487275 -4.30484993 -3.92137864\n",
      " -3.36831769 -3.26137738 -4.06889558 -4.43248869 -3.55456901 -3.20308807\n",
      " -3.16806753 -2.99226831 -2.7702551  -2.3246957  -4.99914299]\n",
      "Figure(640x480)\n",
      "Figure(640x480)\n"
     ]
    },
    {
     "data": {
      "image/png": "[encoded data removed]",
      "text/plain": [
       "<Figure size 640x480 with 1 Axes>"
      ]
     },
     "metadata": {},
     "output_type": "display_data"
    },
    {
     "data": {
      "image/png": "[encoded data removed]",
      "text/plain": [
       "<Figure size 640x480 with 1 Axes>"
      ]
     },
     "metadata": {},
     "output_type": "display_data"
    }
   ],
   "source": [
    "print(model.cusum)\n",
    "print(model.plot_cusum())\n",
    "print(model.plot_cusum_squares())"
   ]
  },
  {
   "cell_type": "code",
   "execution_count": null,
   "id": "e90385c0",
   "metadata": {},
   "outputs": [],
   "source": []
  }
 ],
 "metadata": {
  "kernelspec": {
   "display_name": "Python 3 (ipykernel)",
   "language": "python",
   "name": "python3"
  },
  "language_info": {
   "codemirror_mode": {
    "name": "ipython",
    "version": 3
   },
   "file_extension": ".py",
   "mimetype": "text/x-python",
   "name": "python",
   "nbconvert_exporter": "python",
   "pygments_lexer": "ipython3",
   "version": "3.9.13"
  }
 },
 "nbformat": 4,
 "nbformat_minor": 5
}
