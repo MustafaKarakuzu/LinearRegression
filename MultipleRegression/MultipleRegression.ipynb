{
 "cells": [
  {
   "cell_type": "markdown",
   "id": "afa319bb",
   "metadata": {},
   "source": [
    "# MULTIPLE REGRESSION AND CORRELATION ANALYSIS"
   ]
  },
  {
   "cell_type": "code",
   "execution_count": 3,
   "id": "f750cb22",
   "metadata": {},
   "outputs": [],
   "source": [
    "import numpy as np\n",
    "import pandas as pd\n",
    "import matplotlib.pyplot as plt\n",
    "from tabulate import tabulate\n",
    "import statsmodels.api as sm\n",
    "import statsmodels.graphics.api as smg"
   ]
  },
  {
   "cell_type": "code",
   "execution_count": 4,
   "id": "6b70eabf",
   "metadata": {},
   "outputs": [],
   "source": [
    "data=pd.read_excel('data_multiple.xlsx')"
   ]
  },
  {
   "cell_type": "code",
   "execution_count": 5,
   "id": "a1a87f22",
   "metadata": {},
   "outputs": [
    {
     "data": {
      "text/html": [
       "<div>\n",
       "<style scoped>\n",
       "    .dataframe tbody tr th:only-of-type {\n",
       "        vertical-align: middle;\n",
       "    }\n",
       "\n",
       "    .dataframe tbody tr th {\n",
       "        vertical-align: top;\n",
       "    }\n",
       "\n",
       "    .dataframe thead th {\n",
       "        text-align: right;\n",
       "    }\n",
       "</style>\n",
       "<table border=\"1\" class=\"dataframe\">\n",
       "  <thead>\n",
       "    <tr style=\"text-align: right;\">\n",
       "      <th></th>\n",
       "      <th>Y</th>\n",
       "      <th>X1</th>\n",
       "      <th>X2</th>\n",
       "    </tr>\n",
       "  </thead>\n",
       "  <tbody>\n",
       "    <tr>\n",
       "      <th>0</th>\n",
       "      <td>2</td>\n",
       "      <td>5</td>\n",
       "      <td>30</td>\n",
       "    </tr>\n",
       "    <tr>\n",
       "      <th>1</th>\n",
       "      <td>6</td>\n",
       "      <td>5</td>\n",
       "      <td>35</td>\n",
       "    </tr>\n",
       "    <tr>\n",
       "      <th>2</th>\n",
       "      <td>6</td>\n",
       "      <td>8</td>\n",
       "      <td>36</td>\n",
       "    </tr>\n",
       "    <tr>\n",
       "      <th>3</th>\n",
       "      <td>9</td>\n",
       "      <td>5</td>\n",
       "      <td>40</td>\n",
       "    </tr>\n",
       "    <tr>\n",
       "      <th>4</th>\n",
       "      <td>10</td>\n",
       "      <td>8</td>\n",
       "      <td>45</td>\n",
       "    </tr>\n",
       "    <tr>\n",
       "      <th>5</th>\n",
       "      <td>12</td>\n",
       "      <td>11</td>\n",
       "      <td>50</td>\n",
       "    </tr>\n",
       "    <tr>\n",
       "      <th>6</th>\n",
       "      <td>15</td>\n",
       "      <td>11</td>\n",
       "      <td>60</td>\n",
       "    </tr>\n",
       "    <tr>\n",
       "      <th>7</th>\n",
       "      <td>20</td>\n",
       "      <td>5</td>\n",
       "      <td>80</td>\n",
       "    </tr>\n",
       "    <tr>\n",
       "      <th>8</th>\n",
       "      <td>30</td>\n",
       "      <td>15</td>\n",
       "      <td>120</td>\n",
       "    </tr>\n",
       "    <tr>\n",
       "      <th>9</th>\n",
       "      <td>40</td>\n",
       "      <td>17</td>\n",
       "      <td>150</td>\n",
       "    </tr>\n",
       "  </tbody>\n",
       "</table>\n",
       "</div>"
      ],
      "text/plain": [
       "    Y  X1   X2\n",
       "0   2   5   30\n",
       "1   6   5   35\n",
       "2   6   8   36\n",
       "3   9   5   40\n",
       "4  10   8   45\n",
       "5  12  11   50\n",
       "6  15  11   60\n",
       "7  20   5   80\n",
       "8  30  15  120\n",
       "9  40  17  150"
      ]
     },
     "execution_count": 5,
     "metadata": {},
     "output_type": "execute_result"
    }
   ],
   "source": [
    "data"
   ]
  },
  {
   "cell_type": "code",
   "execution_count": 6,
   "id": "13b728de",
   "metadata": {},
   "outputs": [],
   "source": [
    "data=np.array(data)\n",
    "\n",
    "#Slicing variables as independent and dependent\n",
    "x=data[:,1:]\n",
    "y=data[:,0:1]\n",
    "\n",
    "#Add constant to independent varibles matrix\n",
    "c=np.ones(len(y))\n",
    "X=np.column_stack((c,x))"
   ]
  },
  {
   "cell_type": "code",
   "execution_count": 7,
   "id": "5776584e",
   "metadata": {},
   "outputs": [
    {
     "data": {
      "image/png": "[encoded data removed]",
      "text/plain": [
       "<Figure size 640x480 with 1 Axes>"
      ]
     },
     "metadata": {},
     "output_type": "display_data"
    }
   ],
   "source": [
    "plt.scatter(y,x[:,0:1])\n",
    "plt.scatter(y,x[:,1:])\n",
    "plt.show()"
   ]
  },
  {
   "cell_type": "markdown",
   "id": "8fde00bd",
   "metadata": {},
   "source": [
    "### Multiple Regression"
   ]
  },
  {
   "cell_type": "code",
   "execution_count": 8,
   "id": "ed273700",
   "metadata": {},
   "outputs": [],
   "source": [
    "multiple_reg=sm.OLS(y,X)\n",
    "res_multiple_reg=multiple_reg.fit()"
   ]
  },
  {
   "cell_type": "code",
   "execution_count": 9,
   "id": "d77250dc",
   "metadata": {},
   "outputs": [
    {
     "name": "stdout",
     "output_type": "stream",
     "text": [
      "                            OLS Regression Results                            \n",
      "==============================================================================\n",
      "Dep. Variable:                      y   R-squared:                       0.988\n",
      "Model:                            OLS   Adj. R-squared:                  0.984\n",
      "Method:                 Least Squares   F-statistic:                     282.6\n",
      "Date:                Sun, 23 Apr 2023   Prob (F-statistic):           2.03e-07\n",
      "Time:                        20:23:36   Log-Likelihood:                -16.416\n",
      "No. Observations:                  10   AIC:                             38.83\n",
      "Df Residuals:                       7   BIC:                             39.74\n",
      "Df Model:                           2                                         \n",
      "Covariance Type:            nonrobust                                         \n",
      "==============================================================================\n",
      "                 coef    std err          t      P>|t|      [0.025      0.975]\n",
      "------------------------------------------------------------------------------\n",
      "const         -4.1352      1.126     -3.673      0.008      -6.797      -1.473\n",
      "x1             0.0719      0.200      0.360      0.730      -0.401       0.545\n",
      "x2             0.2862      0.022     13.161      0.000       0.235       0.338\n",
      "==============================================================================\n",
      "Omnibus:                        3.454   Durbin-Watson:                   1.159\n",
      "Prob(Omnibus):                  0.178   Jarque-Bera (JB):                1.530\n",
      "Skew:                          -0.958   Prob(JB):                        0.465\n",
      "Kurtosis:                       2.970   Cond. No.                         181.\n",
      "==============================================================================\n",
      "\n",
      "Notes:\n",
      "[1] Standard Errors assume that the covariance matrix of the errors is correctly specified.\n"
     ]
    },
    {
     "name": "stderr",
     "output_type": "stream",
     "text": [
      "C:\\Users\\MUSTAFA KARAKUZU\\anaconda3\\lib\\site-packages\\scipy\\stats\\_stats_py.py:1769: UserWarning: kurtosistest only valid for n>=20 ... continuing anyway, n=10\n",
      "  warnings.warn(\"kurtosistest only valid for n>=20 ... continuing \"\n"
     ]
    }
   ],
   "source": [
    "print(res_multiple_reg.summary())"
   ]
  },
  {
   "cell_type": "code",
   "execution_count": 10,
   "id": "3c24e3b5",
   "metadata": {},
   "outputs": [
    {
     "name": "stdout",
     "output_type": "stream",
     "text": [
      "╒═════╤══════╤══════╤══════════╕\n",
      "│   Y │   X1 │   X2 │   Pred Y │\n",
      "╞═════╪══════╪══════╪══════════╡\n",
      "│   2 │    5 │   30 │  4.8101  │\n",
      "├─────┼──────┼──────┼──────────┤\n",
      "│   6 │    5 │   35 │  6.24107 │\n",
      "├─────┼──────┼──────┼──────────┤\n",
      "│   6 │    8 │   36 │  6.74298 │\n",
      "├─────┼──────┼──────┼──────────┤\n",
      "│   9 │    5 │   40 │  7.67203 │\n",
      "├─────┼──────┼──────┼──────────┤\n",
      "│  10 │    8 │   45 │  9.31871 │\n",
      "├─────┼──────┼──────┼──────────┤\n",
      "│  12 │   11 │   50 │ 10.9654  │\n",
      "├─────┼──────┼──────┼──────────┤\n",
      "│  15 │   11 │   60 │ 13.8273  │\n",
      "├─────┼──────┼──────┼──────────┤\n",
      "│  20 │    5 │   80 │ 19.1197  │\n",
      "├─────┼──────┼──────┼──────────┤\n",
      "│  30 │   15 │  120 │ 31.2865  │\n",
      "├─────┼──────┼──────┼──────────┤\n",
      "│  40 │   17 │  150 │ 40.0161  │\n",
      "╘═════╧══════╧══════╧══════════╛\n"
     ]
    }
   ],
   "source": [
    "r_mult_reg=res_multiple_reg.predict()\n",
    "show_values=np.column_stack((y,x,r_mult_reg))\n",
    "table1=tabulate(show_values,headers=['Y','X1','X2','Pred Y'],tablefmt='fancy_grid')\n",
    "print(table1)"
   ]
  },
  {
   "cell_type": "markdown",
   "id": "c810de08",
   "metadata": {},
   "source": [
    "### Correlation Analysis"
   ]
  },
  {
   "cell_type": "markdown",
   "id": "9bddf72b",
   "metadata": {},
   "source": [
    "#### Correlation Matrix"
   ]
  },
  {
   "cell_type": "code",
   "execution_count": 11,
   "id": "ea50052d",
   "metadata": {},
   "outputs": [],
   "source": [
    "corr=np.corrcoef(data, rowvar=False)"
   ]
  },
  {
   "cell_type": "code",
   "execution_count": 12,
   "id": "46051ec8",
   "metadata": {},
   "outputs": [
    {
     "name": "stdout",
     "output_type": "stream",
     "text": [
      "       Y        X1        X2\n",
      "--------  --------  --------\n",
      "1         0.827684  0.993751\n",
      "0.827684  1         0.824326\n",
      "0.993751  0.824326  1\n"
     ]
    }
   ],
   "source": [
    "print(tabulate(corr, headers=['Y','X1','X2']))"
   ]
  },
  {
   "cell_type": "markdown",
   "id": "878ceb1a",
   "metadata": {},
   "source": [
    "#### Multiple Correlation Coefficent"
   ]
  },
  {
   "cell_type": "markdown",
   "id": "457790de",
   "metadata": {},
   "source": [
    "## $r_{y\\hat{y}} = \\frac{\\sum (y_{i}-\\bar{y_{i}})(\\hat{y_{i}}-\\bar{y_{i}})}{\\sum(y_{i}-\\bar{y_{i}})^2\\sum(\\hat{y_{i}}-\\bar{y_{i}})^2} $"
   ]
  },
  {
   "cell_type": "code",
   "execution_count": 13,
   "id": "2e131563",
   "metadata": {},
   "outputs": [
    {
     "data": {
      "text/plain": [
       "0.993864298263292"
      ]
     },
     "execution_count": 13,
     "metadata": {},
     "output_type": "execute_result"
    }
   ],
   "source": [
    "np.sqrt(res_multiple_reg.rsquared)"
   ]
  },
  {
   "cell_type": "markdown",
   "id": "9022e084",
   "metadata": {},
   "source": [
    "Multiple correlation coefficent represent that relation between dependent variable and independents variables.\n",
    "This coefficent is between $-1 \\le  r_{y\\hat{y}}  \\le 1$ like Pearson correlation coefficent. When this coefficent goes to 0 we can say that the relation between independent variables and dependent variable is weak, vice versa we can say that relation is strong. According to sign of coefficent, can be interpreted the direction of relation as well."
   ]
  },
  {
   "cell_type": "markdown",
   "id": "0450f355",
   "metadata": {},
   "source": [
    "#### Part and Partial Correlation"
   ]
  },
  {
   "cell_type": "markdown",
   "id": "d61e1453",
   "metadata": {},
   "source": [
    "#####  Part Correlation"
   ]
  },
  {
   "cell_type": "markdown",
   "id": "3180dd1f",
   "metadata": {},
   "source": [
    "## $r_{y(X_i X_j)} = \\frac{\\sum (y_{n}-\\bar{y_{n}})(e_{n(X_i X_j)})}{\\sum(y_{n}-\\bar{y_{n}})^2\\sum(e_{n(X_i X_j)})^2} $"
   ]
  },
  {
   "cell_type": "markdown",
   "id": "7ccfa936",
   "metadata": {},
   "source": [
    "As known the square of Pearson correlation coefficient give the ${R^2}$ in basic regression. But when we create the multiple regression, to reach the same result is not available. To seperatly calculate the relations of y and every x, this formula have to use."
   ]
  },
  {
   "cell_type": "markdown",
   "id": "f88a621d",
   "metadata": {},
   "source": [
    "##### Partial Correlation"
   ]
  },
  {
   "cell_type": "markdown",
   "id": "f759b168",
   "metadata": {},
   "source": [
    "## $r_{y X_i.X_j} = \\frac{\\sum (e_{n(y.X_j)})(e_{n(X_i.X_j)})}{\\sum(e_{n(y.X_j)})^2\\sum(e_{n(X_i.X_j)})^2} $"
   ]
  },
  {
   "cell_type": "markdown",
   "id": "6e3c9232",
   "metadata": {},
   "source": [
    "${R^2}$ obtained from multiple regression show the performance of all independent variables, thus this is not to represent of individual performance of variables. To analysis the contribition of independent variable which added later in multiple regression, the partial correlation method is used. "
   ]
  },
  {
   "cell_type": "code",
   "execution_count": 14,
   "id": "1fb84eb9",
   "metadata": {},
   "outputs": [],
   "source": [
    "#CORRELATION ALAYSIS\n",
    "#--------------------\n",
    "#X1\n",
    "x1=data[:,1:2]\n",
    "X1=np.column_stack((c,x1))\n",
    "\n",
    "#X2\n",
    "x2=data[:,2:3]\n",
    "X2=np.column_stack((c,x2))\n",
    "\n",
    "\n",
    "#PART CORRELATION\n",
    "#------------------\n",
    "#PART COR. FOR X1\n",
    "y_x2_reg=sm.OLS(y,X2).fit()\n",
    "r_y_x2 = y_x2_reg.rsquared\n",
    "r_y_X1_X2 = np.sqrt(res_multiple_reg.rsquared - r_y_x2)\n",
    "\n",
    "\n",
    "#PART COR. FOR X2\n",
    "y_x1_reg=sm.OLS(y,X1).fit()\n",
    "r_y_x1 = y_x1_reg.rsquared\n",
    "r_y_X2_X1 = np.sqrt(res_multiple_reg.rsquared - r_y_x1)\n",
    "\n",
    "\n",
    "#PARTIAL CORRELATION\n",
    "#-------------------\n",
    "#PARTIAL COR. FOR X1\n",
    "y_X2=sm.OLS(y,X2).fit()\n",
    "resid_y_X2 = np.array([y_X2.resid])\n",
    "x1_X2=sm.OLS(x1,X2).fit()\n",
    "resid_x1_X2 = np.array([x1_X2.resid])\n",
    "r_y_x1_x2 = (np.sum(np.multiply(resid_y_X2,resid_x1_X2)))/np.sqrt(np.sum(resid_y_X2**2)*np.sum(resid_x1_X2**2))\n",
    "\n",
    "\n",
    "#PARTIAL COR. FOR X2\n",
    "y_X1=sm.OLS(y,X1).fit()\n",
    "resid_y_X1 = np.array([y_X1.resid])\n",
    "x2_X1=sm.OLS(x2,X1).fit()\n",
    "resid_x2_X1 = np.array([x2_X1.resid])\n",
    "r_y_x2_x1 = (np.sum(np.multiply(resid_y_X1,resid_x2_X1)))/np.sqrt(np.sum(resid_y_X1**2)*np.sum(resid_x2_X1**2))"
   ]
  },
  {
   "cell_type": "code",
   "execution_count": 15,
   "id": "68cd23c5",
   "metadata": {},
   "outputs": [
    {
     "name": "stdout",
     "output_type": "stream",
     "text": [
      "╒═════════════╤════════════════════╤═══════════════════════╕\n",
      "│ Variables   │   Part Correlation │   Partial Correlation │\n",
      "╞═════════════╪════════════════════╪═══════════════════════╡\n",
      "│ x1          │          0.0150321 │              0.134668 │\n",
      "├─────────────┼────────────────────┼───────────────────────┤\n",
      "│ x2          │          0.550186  │              0.980385 │\n",
      "╘═════════════╧════════════════════╧═══════════════════════╛\n"
     ]
    }
   ],
   "source": [
    "headers=['Variables','Part Correlation','Partial Correlation']\n",
    "\n",
    "data_show=[\n",
    "      ['x1',r_y_X1_X2,r_y_x1_x2],\n",
    "      ['x2',r_y_X2_X1,r_y_x2_x1]\n",
    "      ]\n",
    "table2=tabulate(data_show,headers,tablefmt=\"fancy_grid\")\n",
    "print(table2)"
   ]
  },
  {
   "cell_type": "markdown",
   "id": "1b7b497f",
   "metadata": {},
   "source": [
    "According to results of showing above,  we can analysis part and partial correlation.\n",
    "From aspect of $X1$ variable, we can say that part correlation coefficient is 0.015 and  the relation between $y$ and $X1$ is so weak. Partial correlation coefficient of $X1$ show  that 0.13 of the $R^2$ of the multiple regression is calculated with the contribution of $X1$ thus  it  can intuitively be said that $X1$ is statisticaly insignificant. The probabilty value of $X1$ that bigger than 0.05 alpha significance level indicates same result.\n",
    "$X2$ can be analysed with similiar process as well. \n"
   ]
  }
 ],
 "metadata": {
  "kernelspec": {
   "display_name": "Python 3 (ipykernel)",
   "language": "python",
   "name": "python3"
  },
  "language_info": {
   "codemirror_mode": {
    "name": "ipython",
    "version": 3
   },
   "file_extension": ".py",
   "mimetype": "text/x-python",
   "name": "python",
   "nbconvert_exporter": "python",
   "pygments_lexer": "ipython3",
   "version": "3.9.13"
  }
 },
 "nbformat": 4,
 "nbformat_minor": 5
}
